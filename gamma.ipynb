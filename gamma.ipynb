{
 "cells": [
  {
   "cell_type": "markdown",
   "metadata": {
    "collapsed": false
   },
   "source": [
    "# Vyhodnocení gama analýzy"
   ]
  },
  {
   "cell_type": "markdown",
   "metadata": {},
   "source": [
    "Načteme knihovny, které se v analýze dat v Pythonu používají téměř vždy:"
   ]
  },
  {
   "cell_type": "code",
   "execution_count": 3,
   "metadata": {
    "collapsed": true
   },
   "outputs": [],
   "source": [
    "import numpy as np\n",
    "import matplotlib.pyplot as plt\n",
    "import h5py\n",
    "%matplotlib inline"
   ]
  },
  {
   "cell_type": "code",
   "execution_count": 4,
   "metadata": {
    "collapsed": false
   },
   "outputs": [],
   "source": [
    "import sys\n",
    "sys.path.append(r\"D:\\thesis\\model\\python_lib\")\n",
    "%load_ext autoreload\n",
    "%autoreload 2\n",
    "import os\n",
    "\n",
    "data_dir = r\".\"\n",
    "os.environ[\"LGK_DATA_PREFIX\"] = data_dir"
   ]
  },
  {
   "cell_type": "code",
   "execution_count": 5,
   "metadata": {
    "collapsed": true
   },
   "outputs": [],
   "source": [
    "import gamma\n",
    "import dose\n",
    "import data"
   ]
  },
  {
   "cell_type": "markdown",
   "metadata": {},
   "source": [
    "Načteme data nasimulovaná Geantem:"
   ]
  },
  {
   "cell_type": "code",
   "execution_count": 9,
   "metadata": {
    "collapsed": true
   },
   "outputs": [],
   "source": [
    "mc = dose.get_dose(\"gel\", \"mc\")[1:-1,1:-1,1:-1]     # Ignoruj body na kraji\n",
    "mc2 = dose.zoom2_array(mc)                          # Interpoluj na dvojnásobné rozlišení"
   ]
  },
  {
   "cell_type": "markdown",
   "metadata": {},
   "source": [
    "Podobným způsobem načteme data z Leksell GammaPlanu. Vybíráme si data z algoritmu **Convolution**.\n",
    "\n",
    "Následně spočítáme matice s gama indexem."
   ]
  },
  {
   "cell_type": "code",
   "execution_count": 18,
   "metadata": {
    "collapsed": false,
    "scrolled": true
   },
   "outputs": [],
   "source": [
    "gammas = {}\n",
    "hf = h5py.File(\"data/gamma.h5\")\n",
    "\n",
    "for study in [\"gel\", \"adenoma\", \"neuralgia\"]:\n",
    "    d = dose.get_dose(study, \"convolution\")\n",
    "    d2 = dose.zoom2_array(d)\n",
    "    dta = 2 / data.targets[study].grid \n",
    "    \n",
    "    # Spočítej gama\n",
    "    study_gamma = gamma.gamma_matrix(core(mc2, 40), core(d2, 40), dta=dta, dd=0.03)\n",
    "    hf[\"convolution-%s\" % study] = study_gamma\n",
    "    gammas[study] = study_gamma\n",
    "    \n",
    "hf.flush()\n",
    "hf.close()"
   ]
  },
  {
   "cell_type": "code",
   "execution_count": null,
   "metadata": {
    "collapsed": false
   },
   "outputs": [],
   "source": [
    "gammas[\"gel\"].shape   # Jak vypadá matice"
   ]
  },
  {
   "cell_type": "code",
   "execution_count": null,
   "metadata": {
    "collapsed": true
   },
   "outputs": [],
   "source": []
  }
 ],
 "metadata": {
  "kernelspec": {
   "display_name": "Python 2",
   "language": "python",
   "name": "python2"
  },
  "language_info": {
   "codemirror_mode": {
    "name": "ipython",
    "version": 2
   },
   "file_extension": ".py",
   "mimetype": "text/x-python",
   "name": "python",
   "nbconvert_exporter": "python",
   "pygments_lexer": "ipython2",
   "version": "2.7.8"
  }
 },
 "nbformat": 4,
 "nbformat_minor": 0
}
